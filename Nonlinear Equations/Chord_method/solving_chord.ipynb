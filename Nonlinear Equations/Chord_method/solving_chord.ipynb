{
 "cells": [
  {
   "cell_type": "markdown",
   "metadata": {},
   "source": [
    "# Chord method \n"
   ]
  },
  {
   "cell_type": "code",
   "execution_count": 3,
   "metadata": {},
   "outputs": [],
   "source": [
    "import numpy as np\n",
    "import sympy as sp"
   ]
  },
  {
   "cell_type": "code",
   "execution_count": 2,
   "metadata": {},
   "outputs": [],
   "source": [
    "from Chord import *"
   ]
  },
  {
   "cell_type": "markdown",
   "metadata": {},
   "source": [
    "## Sample problem for testing algorithm\n",
    "### Initializing values"
   ]
  },
  {
   "cell_type": "code",
   "execution_count": 4,
   "metadata": {},
   "outputs": [],
   "source": [
    "x = sp.symbols(\"x\")\n",
    "f = np.e**(0.1*x)* sp.cos(x) + 2 * sp.sin(x) - 5\n",
    "a = 19.7\n",
    "b = 20.1\n",
    "eps = 0.0001\n",
    "iter = 5\n",
    "problem = Chord_method(f, a, b, eps, iter)"
   ]
  },
  {
   "cell_type": "markdown",
   "metadata": {},
   "source": [
    "### Solving for approximate root with a fixed number of iterations"
   ]
  },
  {
   "cell_type": "code",
   "execution_count": 5,
   "metadata": {},
   "outputs": [
    {
     "name": "stdout",
     "output_type": "stream",
     "text": [
      "Initialization: x = 19.7\n",
      "Iteration 1: x = 19.94854172396753, err = 0.10478404179217304\n",
      "Iteration 2: x = 19.96978109159258, err = 0.008954419199060945\n",
      "Iteration 3: x = 19.971232707442677, err = 0.0006119945314399745\n",
      "Iteration 4: x = 19.971330157141896, err = 4.1084342671110415e-05\n",
      "Iteration 5: x = 19.971336691154125, err = 2.7547093483956212e-06\n",
      "Approximate root: 19.971336691154125\n",
      "Error: 2.7547093483956212e-06\n"
     ]
    }
   ],
   "source": [
    "if problem.check_input():\n",
    "    a_root, err = problem.chord_with_iter()\n",
    "    print(f\"Approximate root: {a_root}\")\n",
    "    print(f\"Error: { err}\")\n",
    "else:\n",
    "    print(\"Invalid input\")"
   ]
  },
  {
   "cell_type": "markdown",
   "metadata": {},
   "source": [
    "### Solving for approximate root with a predefined tolerance ε\n"
   ]
  },
  {
   "cell_type": "code",
   "execution_count": 6,
   "metadata": {},
   "outputs": [
    {
     "name": "stdout",
     "output_type": "stream",
     "text": [
      "Initialization: x = 19.7\n",
      "Iteration 1: x = 19.94854172396753, err = 0.10478413668116131\n",
      "Iteration 2: x = 19.96978109159258, err = 0.008954427307889005\n",
      "Iteration 3: x = 19.971232707442677, err = 0.0006119950856421308\n",
      "Iteration 4: x = 19.971330157141896, err = 4.108437987574237e-05\n",
      "Approximate root: 19.971330157141896\n",
      "Error: 4.108437987574237e-05\n"
     ]
    }
   ],
   "source": [
    "if problem.check_input():\n",
    "    a_root, err = problem.chord_with_eps()\n",
    "    print(f\"Approximate root: {a_root}\")\n",
    "    print(f\"Error: { err}\")\n",
    "else:\n",
    "    print(\"Invalid input\")"
   ]
  }
 ],
 "metadata": {
  "kernelspec": {
   "display_name": "Python 3",
   "language": "python",
   "name": "python3"
  },
  "language_info": {
   "codemirror_mode": {
    "name": "ipython",
    "version": 3
   },
   "file_extension": ".py",
   "mimetype": "text/x-python",
   "name": "python",
   "nbconvert_exporter": "python",
   "pygments_lexer": "ipython3",
   "version": "3.12.6"
  }
 },
 "nbformat": 4,
 "nbformat_minor": 2
}
