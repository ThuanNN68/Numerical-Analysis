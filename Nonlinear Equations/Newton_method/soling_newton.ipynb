{
 "cells": [
  {
   "cell_type": "markdown",
   "metadata": {},
   "source": [
    "# Newton method"
   ]
  },
  {
   "cell_type": "code",
   "execution_count": 1,
   "metadata": {},
   "outputs": [],
   "source": [
    "import numpy as np\n",
    "import sympy as sp"
   ]
  },
  {
   "cell_type": "code",
   "execution_count": 2,
   "metadata": {},
   "outputs": [],
   "source": [
    "from Newton import *"
   ]
  },
  {
   "cell_type": "markdown",
   "metadata": {},
   "source": [
    "## Sample problem for testing algorithm\n",
    "### Initializing values"
   ]
  },
  {
   "cell_type": "code",
   "execution_count": 4,
   "metadata": {},
   "outputs": [],
   "source": [
    "x = sp.symbols(\"x\")\n",
    "f = sp.ln(x) +3*x**2 - 4\n",
    "a = 1\n",
    "b = 2\n",
    "eps = 0.0001\n",
    "iter = 5\n",
    "problem = Newton_method(f, a, b, eps, iter)"
   ]
  },
  {
   "cell_type": "markdown",
   "metadata": {},
   "source": [
    "### Solving for approximate root with a fixed number of iterations"
   ]
  },
  {
   "cell_type": "code",
   "execution_count": null,
   "metadata": {},
   "outputs": [],
   "source": []
  },
  {
   "cell_type": "code",
   "execution_count": 5,
   "metadata": {},
   "outputs": [
    {
     "name": "stdout",
     "output_type": "stream",
     "text": [
      "Initialization: x = 2\n",
      "Iter 1: x = 1.3045482255552043, err = 0.19864326648756328\n",
      "Iter 2: x = 1.144969353764989, err = 0.010459010275040603\n",
      "Iter 3: x = 1.136156160585965, err = 3.190115361157709e-05\n",
      "Iter 4: x = 1.136129755845209, err = 2.863542444796688e-10\n",
      "Iter 5: x = 1.1361297556085483, err = 2.3003401817270616e-20\n",
      "Approximate root: 1.1361297556085483\n",
      "Error: 2.3003401817270616e-20\n"
     ]
    }
   ],
   "source": [
    "if problem.check_input():\n",
    "    a_root, err = problem.newton_with_iter()\n",
    "    print(f\"Approximate root: {a_root}\")\n",
    "    print(f\"Error: { err}\")\n",
    "else:\n",
    "    print(\"Invalid input\")"
   ]
  },
  {
   "cell_type": "markdown",
   "metadata": {},
   "source": [
    "### Solving for approximate root with a predefined tolerance ε\n"
   ]
  },
  {
   "cell_type": "code",
   "execution_count": 6,
   "metadata": {},
   "outputs": [
    {
     "name": "stdout",
     "output_type": "stream",
     "text": [
      "Initialization: x = 2\n",
      "Iter 1: x = 1.3045482255552043, err = 0.19864326648756328\n",
      "Iter 2: x = 1.144969353764989, err = 0.010459010275040603\n",
      "Iter 3: x = 1.136156160585965, err = 3.190115361157709e-05\n",
      "Approximate root: 1.136156160585965\n",
      "Error: 3.190115361157709e-05\n"
     ]
    }
   ],
   "source": [
    "if problem.check_input():\n",
    "    a_root, err = problem.newton_with_eps()\n",
    "    print(f\"Approximate root: {a_root}\")\n",
    "    print(f\"Error: { err}\")\n",
    "else:\n",
    "    print(\"Invalid input\")"
   ]
  }
 ],
 "metadata": {
  "kernelspec": {
   "display_name": "Python 3",
   "language": "python",
   "name": "python3"
  },
  "language_info": {
   "codemirror_mode": {
    "name": "ipython",
    "version": 3
   },
   "file_extension": ".py",
   "mimetype": "text/x-python",
   "name": "python",
   "nbconvert_exporter": "python",
   "pygments_lexer": "ipython3",
   "version": "3.12.6"
  }
 },
 "nbformat": 4,
 "nbformat_minor": 2
}
