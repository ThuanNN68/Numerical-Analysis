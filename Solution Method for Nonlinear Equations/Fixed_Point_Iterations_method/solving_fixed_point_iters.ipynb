{
 "cells": [
  {
   "cell_type": "markdown",
   "metadata": {},
   "source": [
    "# Fixed Point Iterations method"
   ]
  },
  {
   "cell_type": "code",
   "execution_count": 1,
   "metadata": {},
   "outputs": [],
   "source": [
    "import numpy as np\n",
    "import sympy as sp"
   ]
  },
  {
   "cell_type": "code",
   "execution_count": 2,
   "metadata": {},
   "outputs": [],
   "source": [
    "from FixedPointIterations import *"
   ]
  },
  {
   "cell_type": "markdown",
   "metadata": {},
   "source": [
    "## Sample problem for testing algorithm\n",
    "### Initializing values"
   ]
  },
  {
   "cell_type": "code",
   "execution_count": 3,
   "metadata": {},
   "outputs": [],
   "source": [
    "x = sp.symbols(\"x\")\n",
    "phi = (x + 1)**(1/5)\n",
    "a = 1\n",
    "b = 2\n",
    "x_0 = 1\n",
    "eps = 1e-5\n",
    "iter = 10\n",
    "problem = FixedPointIter(phi, a, b, x_0, eps, iter)"
   ]
  },
  {
   "cell_type": "markdown",
   "metadata": {},
   "source": [
    "### Solving for approximate root with a fixed number of iterations"
   ]
  },
  {
   "cell_type": "code",
   "execution_count": 4,
   "metadata": {},
   "outputs": [
    {
     "name": "stdout",
     "output_type": "stream",
     "text": [
      "Initialization: x = 1\n",
      "Iter 1: x = 1.148698354997035, err = 0.0192976765030136\n",
      "Iter 2: x = 1.1652928729386878, err = 0.002153592344500742\n",
      "Iter 3: x = 1.167087262645595, err = 0.00023287111740357972\n",
      "Iter 4: x = 1.1672806328403909, err = 2.509506890354502e-05\n",
      "Iter 5: x = 1.1673014634946366, err = 2.7033468325082664e-06\n",
      "Iter 6: x = 1.1673037073719947, err = 2.9120442772048663e-07\n",
      "Iter 7: x = 1.167303949081357, err = 3.136839732737511e-08\n",
      "Iter 8: x = 1.1673039751181584, err = 3.3789867429599513e-09\n",
      "Iter 9: x = 1.1673039779228285, err = 3.6398261001353346e-10\n",
      "Iter 10: x = 1.167303978224946, err = 3.9207997056329714e-11\n",
      "(1.167303978224946, 3.9207997056329714e-11)\n"
     ]
    }
   ],
   "source": [
    "if problem.check_input():\n",
    "    print(problem.fixedpointiter_with_iter())\n",
    "else:\n",
    "    print(\"Invalid input\")"
   ]
  },
  {
   "cell_type": "markdown",
   "metadata": {},
   "source": [
    "### Solving for approximate root with a predefined tolerance ε\n"
   ]
  },
  {
   "cell_type": "code",
   "execution_count": 5,
   "metadata": {},
   "outputs": [
    {
     "name": "stdout",
     "output_type": "stream",
     "text": [
      "Initialization: x = 1\n",
      "Iter 1: x = 1.148698354997035, err = 0.0192976765030136\n",
      "Iter 2: x = 1.1652928729386878, err = 0.002153592344500742\n",
      "Iter 3: x = 1.167087262645595, err = 0.00023287111740357972\n",
      "Iter 4: x = 1.1672806328403909, err = 2.509506890354502e-05\n",
      "Iter 5: x = 1.1673014634946366, err = 2.7033468325082664e-06\n",
      "(1.1673014634946366, 2.7033468325082664e-06)\n"
     ]
    }
   ],
   "source": [
    "if problem.check_input():\n",
    "    print(problem.fixedpointiter_with_eps())\n",
    "else:\n",
    "    print(\"Invalid input\")"
   ]
  }
 ],
 "metadata": {
  "kernelspec": {
   "display_name": "Python 3",
   "language": "python",
   "name": "python3"
  },
  "language_info": {
   "codemirror_mode": {
    "name": "ipython",
    "version": 3
   },
   "file_extension": ".py",
   "mimetype": "text/x-python",
   "name": "python",
   "nbconvert_exporter": "python",
   "pygments_lexer": "ipython3",
   "version": "3.12.6"
  }
 },
 "nbformat": 4,
 "nbformat_minor": 2
}
