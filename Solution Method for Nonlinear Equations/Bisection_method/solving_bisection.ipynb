{
 "cells": [
  {
   "cell_type": "markdown",
   "metadata": {},
   "source": [
    "# Bisection method\n",
    "\n",
    "##  Algorithm\n",
    "Inputs: $ f(x), a, b, \\epsilon $\n",
    "\n",
    "Outputs: $ x_{n}, \\Delta x_{n}$\n",
    "\n",
    "Steps to find the solution for a continuous function, follow these steps:\n",
    "\n",
    "**Step 1:** Initial interval selection $ a $ and $ b $, where $ a $ is smaller than $ b $, and the product of $ f(a) $ and $ f(b) $ is negative.\n",
    "\n",
    "**Step 2:** Calculate the midpoint, $ c $, between $ a $ and $ b $.\n",
    "\n",
    "**Step 3:** If $ f(c) $ equals 0, then $ c $ is the root of the function. If not, proceed to the next step.\n",
    "\n",
    "**Step 4:** Divide the interval $[a, b]$:\n",
    "- If the product of $ f(c) $ and $ f(a) $ is negative, there exists a root between $ c $ and $ a $.\n",
    "- If the product of $ f(c) $ and $ f(b) $ is negative, there exists a root between $ c $ and $ b $.\n",
    "\n",
    "**Step 5:** Repeat the above three steps until the interval becomes sufficiently small: $|b - a|\\leq \\epsilon $."
   ]
  },
  {
   "cell_type": "code",
   "execution_count": 4,
   "metadata": {},
   "outputs": [],
   "source": [
    "import numpy as np\n",
    "import sympy as sp"
   ]
  },
  {
   "cell_type": "code",
   "execution_count": 5,
   "metadata": {},
   "outputs": [],
   "source": [
    "from Bisection import *"
   ]
  },
  {
   "cell_type": "markdown",
   "metadata": {},
   "source": [
    "## Sample problem for testing the algorithm\n",
    "### Initializing values"
   ]
  },
  {
   "cell_type": "code",
   "execution_count": 11,
   "metadata": {},
   "outputs": [],
   "source": [
    "x = sp.symbols('x')\n",
    "f = x**2 - 2*x - sp.cos(3*x+4)\n",
    "a = 0\n",
    "b = 0.7\n",
    "eps = 0.001\n",
    "iter = 5\n",
    "problem = Bisection_method(f, a, b, eps, iter)"
   ]
  },
  {
   "cell_type": "markdown",
   "metadata": {},
   "source": [
    "### Solving for approximate roots with a fixed number of iterations"
   ]
  },
  {
   "cell_type": "code",
   "execution_count": 12,
   "metadata": {},
   "outputs": [
    {
     "name": "stdout",
     "output_type": "stream",
     "text": [
      "Iter 0: a = 0, b = 0.7, mid = 0.35, f(mid) = -, err = 0.7\n",
      "Iter 1: a = 0, b = 0.35, mid = 0.175, f(mid) = -, err = 0.35\n",
      "Iter 2: a = 0, b = 0.175, mid = 0.0875, f(mid) = +, err = 0.175\n",
      "Iter 3: a = 0.0875, b = 0.175, mid = 0.13124999999999998, f(mid) = +, err = 0.0875\n",
      "Iter 4: a = 0.13124999999999998, b = 0.175, mid = 0.15312499999999998, f(mid) = -, err = 0.04375000000000001\n",
      "Iter 5: a = 0.13124999999999998, b = 0.15312499999999998, mid = 0.14218749999999997, f(mid) = +, err = 0.021875000000000006\n",
      "Approximate root: 0.14218749999999997\n",
      "Error: 0.021875000000000006\n"
     ]
    }
   ],
   "source": [
    "if problem.check_input():\n",
    "    a_root, err = problem.bisection_with_iter()\n",
    "    print(f\"Approximate root: {a_root}\")\n",
    "    print(f\"Error: { err}\")\n",
    "else:\n",
    "    print(\"Invalid input\")"
   ]
  },
  {
   "cell_type": "markdown",
   "metadata": {},
   "source": [
    "### Solving for approximate root with a predefined tolerance ε"
   ]
  },
  {
   "cell_type": "code",
   "execution_count": 13,
   "metadata": {},
   "outputs": [
    {
     "name": "stdout",
     "output_type": "stream",
     "text": [
      "Iter 0: a = 0.14218749999999997, b = 0.15312499999999998, mid = 0.14765625, f(mid) = -, err = 0.010937500000000017\n",
      "Iter 1: a = 0.14218749999999997, b = 0.14765625, mid = 0.14492187499999998, f(mid) = +, err = 0.005468750000000022\n",
      "Iter 2: a = 0.14492187499999998, b = 0.14765625, mid = 0.14628906249999998, f(mid) = -, err = 0.002734375000000011\n",
      "Iter 3: a = 0.14492187499999998, b = 0.14628906249999998, mid = 0.14560546874999997, f(mid) = +, err = 0.0013671875000000056\n",
      "Approximate root: 0.14560546874999997\n",
      "Error: 0.0013671875000000056\n"
     ]
    }
   ],
   "source": [
    "if problem.check_input():\n",
    "    a_root, err = problem.bisection_with_eps()\n",
    "    print(f\"Approximate root: {a_root}\")\n",
    "    print(f\"Error: { err}\")\n",
    "else:\n",
    "    print(\"Invalid input\")"
   ]
  }
 ],
 "metadata": {
  "kernelspec": {
   "display_name": "Python 3",
   "language": "python",
   "name": "python3"
  },
  "language_info": {
   "codemirror_mode": {
    "name": "ipython",
    "version": 3
   },
   "file_extension": ".py",
   "mimetype": "text/x-python",
   "name": "python",
   "nbconvert_exporter": "python",
   "pygments_lexer": "ipython3",
   "version": "3.12.6"
  }
 },
 "nbformat": 4,
 "nbformat_minor": 2
}
